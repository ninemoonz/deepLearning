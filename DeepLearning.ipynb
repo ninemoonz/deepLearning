{
  "nbformat": 4,
  "nbformat_minor": 0,
  "metadata": {
    "colab": {
      "name": "DeepLearning.ipynb",
      "provenance": [],
      "collapsed_sections": [
        "1mE2N3v1ZzEz",
        "Mw2GDTsna_ZQ",
        "R8OjO6uNjnbx",
        "u7EDc3qjkKeI"
      ],
      "authorship_tag": "ABX9TyNOIl/ex67gNZbwSiy4jtHR",
      "include_colab_link": true
    },
    "kernelspec": {
      "name": "python3",
      "display_name": "Python 3"
    },
    "language_info": {
      "name": "python"
    }
  },
  "cells": [
    {
      "cell_type": "markdown",
      "metadata": {
        "id": "view-in-github",
        "colab_type": "text"
      },
      "source": [
        "<a href=\"https://colab.research.google.com/github/ninemoonz/deepLearning/blob/main/DeepLearning.ipynb\" target=\"_parent\"><img src=\"https://colab.research.google.com/assets/colab-badge.svg\" alt=\"Open In Colab\"/></a>"
      ]
    },
    {
      "cell_type": "markdown",
      "source": [
        "# 1. Artificial Neural Network"
      ],
      "metadata": {
        "id": "UVTYq_eHVJLT"
      }
    },
    {
      "cell_type": "markdown",
      "source": [
        "\n",
        "## ***Keras***\n",
        "Tensorflow 2.0 base API\n",
        "\n",
        "implemented deep learning model with simple function structure\n",
        "- easy to learn\n",
        "- can solve most of deep learning problems\n",
        "\n",
        "**perceptron**\n",
        "\n",
        "basic prototype artificial neural network"
      ],
      "metadata": {
        "id": "1mE2N3v1ZzEz"
      }
    },
    {
      "cell_type": "markdown",
      "source": [
        "## 1-1 Activation Function\n",
        "\n",
        "A function to produce output from x(input) and wi(Weight of Functional Expressions)\n",
        "\n",
        "### Sigmoid function\n",
        "\n",
        "if the input is larger than 0, Sigmoid function gives output close to 1\n",
        "\n",
        "if the input is smaller than 0, Sigmoid function gives output close to 0\n",
        "\n",
        "So basically it means Sigmoid function gives the probability form of the input\n",
        "\n",
        "Generally if the ouput is smaller than 0.5, classified as 0\n",
        "\n",
        "and if the output is larger than 0.5, it is classified as 1\n",
        "\n",
        "Different activation functions are used depend on the type of problem\n",
        "\n",
        "ex)\n",
        "- if the problem is Regression Prediction -> linear\n",
        "- ***if the problem is Binary Classification -> Sigmoid***\n",
        "- if the problem is Multiple Classification -> Softmax\n"
      ],
      "metadata": {
        "id": "Mw2GDTsna_ZQ"
      }
    },
    {
      "cell_type": "markdown",
      "source": [
        "## 1-2 Loss Function\n",
        "the difference of the output artificial neural network and anctual answer\n",
        "\n",
        "- if the problem is regression prediction -> loss function is mean_squared_error\n",
        "- if the problem is binary classification -> loss function is binary_crossentropy\n",
        "- if the problem is multiple classification -> loss function is categorical_crossentropy\n"
      ],
      "metadata": {
        "id": "R8OjO6uNjnbx"
      }
    },
    {
      "cell_type": "markdown",
      "source": [
        "## 1-3 Optimizer\n",
        "\n",
        "Gradient Desent Method : To find the the slope of loss function J(w) is zero\n",
        "\n",
        "Finding the minimum loss function output by moving forward to the \bcoordinate which has lower J(w) value. = Optimizer\n",
        "\n",
        "Examples of optimizer\n",
        "- SGD\n",
        "- RMSProp\n",
        "- Adagrad\n",
        "- Adam\n"
      ],
      "metadata": {
        "id": "u7EDc3qjkKeI"
      }
    },
    {
      "cell_type": "markdown",
      "source": [
        "\n",
        "## 1-4 Multiple-Layer Preceptron (MLP)\n",
        "\n",
        "- Artificial Neural Network generally built with multiple layers\n",
        "\n",
        "- MLP is structured with input layer, output layer, and multiple hidden layers between input and output layer.\n",
        "- Each layer has multiple units, and each unit is a perceptron(or a neuron)\n",
        "- Each unit in a layer next to each other forms weight and forms 1 to 1 relationship\n",
        "\n"
      ],
      "metadata": {
        "id": "HOeU1yB0laFw"
      }
    },
    {
      "cell_type": "markdown",
      "source": [
        "### 2 Simple Deep Learning Model"
      ],
      "metadata": {
        "id": "pTgVi0m-m9kF"
      }
    },
    {
      "cell_type": "code",
      "execution_count": 2,
      "metadata": {
        "colab": {
          "base_uri": "https://localhost:8080/"
        },
        "id": "WywBNY5AU-rF",
        "outputId": "6f7487e7-8dbf-44e3-be77-ff8a08d4eaa9"
      },
      "outputs": [
        {
          "output_type": "stream",
          "name": "stdout",
          "text": [
            "2.8.0\n"
          ]
        }
      ],
      "source": [
        "import tensorflow as tf\n",
        "print(tf.__version__)"
      ]
    },
    {
      "cell_type": "code",
      "source": [
        "# Creating data for model training\n",
        "\n",
        "import pandas as pd\n",
        "import numpy as np\n",
        "\n",
        "x = [-3, 31, -11, 4, 0, 22, -2, -5, -25, -14]\n",
        "y = [-2, 32, -10, 5, 1, 23, -1, -4, -24, -13]\n",
        "\n",
        "x_train = np.array(x).reshape(-1, 1)\n",
        "y_train = np.array(y)\n",
        "\n",
        "print(x_train.shape, y_train.shape)"
      ],
      "metadata": {
        "colab": {
          "base_uri": "https://localhost:8080/"
        },
        "id": "xSg4RJGQnJ8z",
        "outputId": "ad9765dd-c3ac-4fca-d664-5fb631dc3a5d"
      },
      "execution_count": 6,
      "outputs": [
        {
          "output_type": "stream",
          "name": "stdout",
          "text": [
            "(10, 1) (10,)\n"
          ]
        }
      ]
    },
    {
      "cell_type": "markdown",
      "source": [
        "## 2-1 Sequential API (of Keras)\n",
        "\n",
        "An API to form neural network model with multiple layers\n"
      ],
      "metadata": {
        "id": "kqi7mIlDoCG8"
      }
    },
    {
      "cell_type": "code",
      "source": [
        "# neural network with 1 hidden layer\n",
        "from tensorflow.keras import Sequential\n",
        "from tensorflow.keras.layers import Dense\n",
        "\n",
        "model = Sequential() #model instance\n",
        "model.add(Dense(units=1, activation='linear', input_dim=1))\n",
        "#Dense() : layer\n",
        "#input_dim : number of features (x)\n",
        "#units : one continuous value, so it is 1\n"
      ],
      "metadata": {
        "id": "XaBUI7uVoEdM"
      },
      "execution_count": 8,
      "outputs": []
    },
    {
      "cell_type": "code",
      "source": [
        "model.summary()\n",
        "# reason for the number of param, which is 2 is because it is linear regression, and the training we are doing is sloope, and the y-intercept"
      ],
      "metadata": {
        "colab": {
          "base_uri": "https://localhost:8080/"
        },
        "id": "wL9lYi9Bq047",
        "outputId": "c47ece4d-dec0-49b7-dca9-1a1ea5192201"
      },
      "execution_count": 9,
      "outputs": [
        {
          "output_type": "stream",
          "name": "stdout",
          "text": [
            "Model: \"sequential\"\n",
            "_________________________________________________________________\n",
            " Layer (type)                Output Shape              Param #   \n",
            "=================================================================\n",
            " dense (Dense)               (None, 1)                 2         \n",
            "                                                                 \n",
            "=================================================================\n",
            "Total params: 2\n",
            "Trainable params: 2\n",
            "Non-trainable params: 0\n",
            "_________________________________________________________________\n"
          ]
        }
      ]
    },
    {
      "cell_type": "markdown",
      "source": [
        "## 2-2 Model Compile"
      ],
      "metadata": {
        "id": "7T1ufD5Lrfny"
      }
    },
    {
      "cell_type": "code",
      "source": [
        "model.compile(optimizer='adam', loss='mse', metrics=['mae'])"
      ],
      "metadata": {
        "id": "VA0fW3Cjq8sX"
      },
      "execution_count": 11,
      "outputs": []
    },
    {
      "cell_type": "markdown",
      "source": [
        "## 2-3 Model Training and Prediction"
      ],
      "metadata": {
        "id": "MBjYwO11r1rO"
      }
    },
    {
      "cell_type": "code",
      "source": [
        "model.fit(x_train, y_train, epochs=3000, verbose=0)\n",
        "\n",
        "# epochs determine how many time this model will repeat the training\n",
        "# verbose option determines whether to show the training process or not. 0 = false, 1 or 2 = true"
      ],
      "metadata": {
        "colab": {
          "base_uri": "https://localhost:8080/"
        },
        "id": "xB7IFWv1r5FE",
        "outputId": "69294f8f-5b40-48fd-ca2e-fd6c4809002d"
      },
      "execution_count": 17,
      "outputs": [
        {
          "output_type": "execute_result",
          "data": {
            "text/plain": [
              "<keras.callbacks.History at 0x7f496ef31450>"
            ]
          },
          "metadata": {},
          "execution_count": 17
        }
      ]
    },
    {
      "cell_type": "code",
      "source": [
        "# How to find the weight of the finished training model?\n",
        "model.weights\n",
        "\n",
        "#kernel = slope\n",
        "#bias = intercept\n",
        "# both as close to 1 values"
      ],
      "metadata": {
        "colab": {
          "base_uri": "https://localhost:8080/"
        },
        "id": "undCgTPVtGWT",
        "outputId": "24d33688-c4f7-4aba-fa2a-21bdcb839a98"
      },
      "execution_count": 14,
      "outputs": [
        {
          "output_type": "execute_result",
          "data": {
            "text/plain": [
              "[<tf.Variable 'dense/kernel:0' shape=(1, 1) dtype=float32, numpy=array([[0.9999603]], dtype=float32)>,\n",
              " <tf.Variable 'dense/bias:0' shape=(1,) dtype=float32, numpy=array([0.99998736], dtype=float32)>]"
            ]
          },
          "metadata": {},
          "execution_count": 14
        }
      ]
    },
    {
      "cell_type": "code",
      "source": [
        "model.predict([[11], [12], [13]])"
      ],
      "metadata": {
        "colab": {
          "base_uri": "https://localhost:8080/"
        },
        "id": "9qhOSpb4tlFx",
        "outputId": "599a988d-88fe-413b-ffcd-18f801325aa8"
      },
      "execution_count": 16,
      "outputs": [
        {
          "output_type": "execute_result",
          "data": {
            "text/plain": [
              "array([[11.999551],\n",
              "       [12.999511],\n",
              "       [13.999472]], dtype=float32)"
            ]
          },
          "metadata": {},
          "execution_count": 16
        }
      ]
    }
  ]
}